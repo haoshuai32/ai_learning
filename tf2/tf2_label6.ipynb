{
  "cells": [],
  "metadata": {
    "accelerator": "GPU",
    "colab": {
      "collapsed_sections": [],
      "include_colab_link": true,
      "name": "Lab6-Cats-v-Dogs.ipynb",
      "provenance": []
    },
    "kernelspec": {
      "display_name": "yolo_v5",
      "language": "python",
      "name": "python3"
    },
    "language_info": {
      "name": "python",
      "version": "3.7.15 (default, Nov 24 2022, 21:12:53) \n[GCC 11.2.0]"
    },
    "vscode": {
      "interpreter": {
        "hash": "8214cb87bc38f4c4e78397502388c3c0a5f5c0a9337d249b8bbbf697fb41cc8b"
      }
    }
  },
  "nbformat": 4,
  "nbformat_minor": 0
}
