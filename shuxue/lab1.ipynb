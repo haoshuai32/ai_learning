{
 "cells": [
  {
   "cell_type": "code",
   "execution_count": 1,
   "id": "93cfde09-70ab-4c64-a4fd-e5da29fb30b2",
   "metadata": {},
   "outputs": [],
   "source": [
    "import numpy as np\n",
    "arr = np.array([1, 2, 3, 4, 5])"
   ]
  },
  {
   "cell_type": "code",
   "execution_count": 17,
   "id": "c5fda918-2722-4064-84bb-f758966a881a",
   "metadata": {},
   "outputs": [
    {
     "name": "stdout",
     "output_type": "stream",
     "text": [
      "[1 2 3 4 5]\n",
      "<class 'numpy.ndarray'>\n"
     ]
    }
   ],
   "source": [
    "print(arr)\n",
    "print(type(arr))"
   ]
  },
  {
   "cell_type": "markdown",
   "id": "3920e479",
   "metadata": {},
   "source": [
    "NumPy 数组提供了 ndim 属性，该属性返回一个整数，该整数会告诉我们数组有多少维。"
   ]
  },
  {
   "cell_type": "code",
   "execution_count": 3,
   "id": "0f9a384c-80cb-4bbe-a8c0-9342fd4e22b0",
   "metadata": {},
   "outputs": [
    {
     "name": "stdout",
     "output_type": "stream",
     "text": [
      "0\n",
      "[[1 2 3]\n",
      " [4 5 6]]\n",
      "2\n"
     ]
    }
   ],
   "source": [
    "a1 = np.array(61)\n",
    "a2 = np.array([1,2,3,4,5,6])\n",
    "a3 = np.array([[1,2,3],[4,5,6]])\n",
    "a4 = np.array([[[1, 2, 3], [4, 5, 6]], [[1, 2, 3], [4, 5, 6]]])\n",
    "print(a1.ndim)\n",
    "print(a3)\n",
    "print(a3.ndim)"
   ]
  },
  {
   "cell_type": "code",
   "execution_count": 6,
   "id": "f7e17d92",
   "metadata": {},
   "outputs": [
    {
     "name": "stdout",
     "output_type": "stream",
     "text": [
      "2 3\n",
      "5\n",
      "2\n"
     ]
    }
   ],
   "source": [
    "print(a2[1],a2[2])\n",
    "print(a2[1] + a2[2])\n",
    "print(a3[0,1])"
   ]
  },
  {
   "cell_type": "markdown",
   "id": "2c0c094d",
   "metadata": {},
   "source": [
    "# 裁切数组\n",
    "python 中裁切的意思是将元素从一个给定的索引带到另一个给定的索引。\n",
    "\n",
    "我们像这样传递切片而不是索引：[start：end]。\n",
    "\n",
    "我们还可以定义步长，如下所示：[start：end：step]。\n",
    "\n",
    "如果我们不传递 start，则将其视为 0。\n",
    "\n",
    "如果我们不传递 end，则视为该维度内数组的长度。\n",
    "\n",
    "如果我们不传递 step，则视为 1。"
   ]
  },
  {
   "cell_type": "code",
   "execution_count": 14,
   "id": "f56d8994",
   "metadata": {},
   "outputs": [
    {
     "name": "stdout",
     "output_type": "stream",
     "text": [
      "[1 2 3 4 5 6]\n",
      "6\n",
      "[2 3]\n",
      "[4 5 6]\n",
      "[2 4]\n",
      "(2, 3)\n"
     ]
    }
   ],
   "source": [
    "print(a2)\n",
    "print(len(a2))\n",
    "print(a2[1:3])\n",
    "print(a2[3:6])\n",
    "print(a2[1:5:2])"
   ]
  },
  {
   "cell_type": "markdown",
   "id": "a540bf34",
   "metadata": {},
   "source": [
    "# 数组形状 NumPy 数组有一个名为 shape 的属性，该属性返回一个元组，每个索引具有相应元素的数量。"
   ]
  },
  {
   "cell_type": "code",
   "execution_count": 16,
   "id": "482777d5",
   "metadata": {},
   "outputs": [
    {
     "name": "stdout",
     "output_type": "stream",
     "text": [
      "(2, 3)\n"
     ]
    }
   ],
   "source": [
    "print(a3.shape)"
   ]
  },
  {
   "cell_type": "markdown",
   "id": "e025ba04",
   "metadata": {},
   "source": [
    "# 副本和视图之间的区别\n",
    "副本和数组视图之间的主要区别在于副本是一个新数组，而这个视图只是原始数组的视图。\n",
    "\n",
    "每个 NumPy 数组都有一个属性 base，如果该数组拥有数据，则这个 base 属性返回 None。\n",
    "\n",
    "否则，base 属性将引用原始对象。"
   ]
  },
  {
   "cell_type": "code",
   "execution_count": 15,
   "id": "a5b82e40",
   "metadata": {},
   "outputs": [
    {
     "name": "stdout",
     "output_type": "stream",
     "text": [
      "[1 2 3 4 5 6]\n",
      "None\n"
     ]
    }
   ],
   "source": [
    "x = a2.view()\n",
    "print(x.base)\n",
    "y = a2.copy()\n",
    "print(y.base)"
   ]
  },
  {
   "cell_type": "markdown",
   "id": "85629846",
   "metadata": {},
   "source": [
    "NumPy 数组重塑"
   ]
  },
  {
   "cell_type": "code",
   "execution_count": 19,
   "id": "c4db9598",
   "metadata": {},
   "outputs": [
    {
     "name": "stdout",
     "output_type": "stream",
     "text": [
      "[[ 1  2  3]\n",
      " [ 4  5  6]\n",
      " [ 7  8  9]\n",
      " [10 11 12]]\n",
      "(4, 3)\n",
      "[ 1  2  3  4  5  6  7  8  9 10 11 12]\n"
     ]
    }
   ],
   "source": [
    "a4 = np.array([1, 2, 3, 4, 5, 6, 7, 8, 9, 10, 11, 12])\n",
    "\n",
    "newarr = a4.reshape(4, 3)\n",
    "\n",
    "print(newarr)\n",
    "print(newarr.shape)\n",
    "print(newarr.base)"
   ]
  },
  {
   "cell_type": "code",
   "execution_count": 24,
   "id": "aa607ce2",
   "metadata": {},
   "outputs": [
    {
     "name": "stdout",
     "output_type": "stream",
     "text": [
      "(2, 3) 2\n",
      "[1 2 3]\n",
      "1\n",
      "2\n",
      "3\n",
      "[4 5 6]\n",
      "4\n",
      "5\n",
      "6\n",
      "-----------------------\n"
     ]
    }
   ],
   "source": [
    "print(a3.shape,a3.ndim)\n",
    "for item in a3:\n",
    "    print(item)\n",
    "    for i in item:\n",
    "        print(i)\n",
    "\n",
    "print(\"-----------------------\")\n",
    "\n"
   ]
  },
  {
   "cell_type": "code",
   "execution_count": 23,
   "id": "7601aa1a",
   "metadata": {},
   "outputs": [
    {
     "name": "stdout",
     "output_type": "stream",
     "text": [
      "1\n",
      "2\n",
      "3\n",
      "4\n",
      "5\n",
      "6\n"
     ]
    }
   ],
   "source": [
    "for item in np.nditer(a3):\n",
    "    print(item)"
   ]
  },
  {
   "cell_type": "code",
   "execution_count": 27,
   "id": "b98b72db",
   "metadata": {},
   "outputs": [
    {
     "name": "stdout",
     "output_type": "stream",
     "text": [
      "[1 2 3 4 5 1 2 3 4 5 6]\n"
     ]
    }
   ],
   "source": [
    "a6 = np.concatenate((arr,a2))\n",
    "print(a6)"
   ]
  },
  {
   "cell_type": "code",
   "execution_count": null,
   "id": "21dc22a5",
   "metadata": {},
   "outputs": [],
   "source": []
  }
 ],
 "metadata": {
  "kernelspec": {
   "display_name": "Python 3 (ipykernel)",
   "language": "python",
   "name": "python3"
  },
  "language_info": {
   "codemirror_mode": {
    "name": "ipython",
    "version": 3
   },
   "file_extension": ".py",
   "mimetype": "text/x-python",
   "name": "python",
   "nbconvert_exporter": "python",
   "pygments_lexer": "ipython3",
   "version": "3.7.15"
  },
  "toc-autonumbering": false,
  "toc-showtags": false,
  "vscode": {
   "interpreter": {
    "hash": "0d99d1db17dd6e95f990f876a355206f9b840d98d2d557af36e0e20ee5a36a0c"
   }
  }
 },
 "nbformat": 4,
 "nbformat_minor": 5
}
