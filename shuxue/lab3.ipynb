{
 "cells": [
  {
   "attachments": {},
   "cell_type": "markdown",
   "metadata": {},
   "source": [
    "多元回归（Multiple Regression）"
   ]
  },
  {
   "cell_type": "code",
   "execution_count": 2,
   "metadata": {},
   "outputs": [
    {
     "name": "stdout",
     "output_type": "stream",
     "text": [
      "[107.2087328]\n"
     ]
    },
    {
     "name": "stderr",
     "output_type": "stream",
     "text": [
      "e:\\ProgramData\\Anaconda3\\envs\\ai\\lib\\site-packages\\sklearn\\base.py:451: UserWarning: X does not have valid feature names, but LinearRegression was fitted with feature names\n",
      "  \"X does not have valid feature names, but\"\n"
     ]
    }
   ],
   "source": [
    "import pandas\n",
    "from sklearn import linear_model\n",
    "\n",
    "df = pandas.read_csv(\"cars.csv\")\n",
    "\n",
    "# 提示：通常，将独立值列表命名为大写 X，将相关值列表命名为小写 y。\n",
    "\n",
    "# 独立值\n",
    "X = df[['Weight', 'Volume']]\n",
    "# 相关值\n",
    "y = df['CO2']\n",
    "# 在 sklearn 模块中，我们将使用 LinearRegression() 方法创建一个线性回归对象。\n",
    "regr = linear_model.LinearRegression()\n",
    "# 该对象有一个名为 fit() 的方法，\n",
    "# 该方法将独立值和从属值作为参数，并用描述这种关系的数据填充回归对象：\n",
    "regr.fit(X, y)\n",
    "\n",
    "# 预测重量为 2300kg、排量为 1300ccm 的汽车的二氧化碳排放量：\n",
    "\n",
    "predictedCO2 = regr.predict([[2300, 1300]])\n",
    "\n",
    "print(predictedCO2)"
   ]
  }
 ],
 "metadata": {
  "kernelspec": {
   "display_name": "ai",
   "language": "python",
   "name": "python3"
  },
  "language_info": {
   "codemirror_mode": {
    "name": "ipython",
    "version": 3
   },
   "file_extension": ".py",
   "mimetype": "text/x-python",
   "name": "python",
   "nbconvert_exporter": "python",
   "pygments_lexer": "ipython3",
   "version": "3.7.15"
  },
  "orig_nbformat": 4,
  "vscode": {
   "interpreter": {
    "hash": "0d99d1db17dd6e95f990f876a355206f9b840d98d2d557af36e0e20ee5a36a0c"
   }
  }
 },
 "nbformat": 4,
 "nbformat_minor": 2
}
